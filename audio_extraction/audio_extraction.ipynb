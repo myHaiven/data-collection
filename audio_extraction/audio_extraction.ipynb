{
 "cells": [
  {
   "cell_type": "code",
   "execution_count": 1,
   "metadata": {},
   "outputs": [],
   "source": [
    "import ffmpeg\n",
    "from pathlib import Path\n",
    "import re\n",
    "import logging\n",
    "\n",
    "# This makes jupyter notebook output everything instead of just the last output\n",
    "from IPython.core.interactiveshell import InteractiveShell\n",
    "InteractiveShell.ast_node_interactivity = \"all\"\n",
    "\n",
    "################################################################################\n",
    "\n",
    "# Considerations:\n",
    "# Not sure if we should make the directories for the users if the supplied directory doesn't\n",
    "# exist yet"
   ]
  },
  {
   "cell_type": "code",
   "execution_count": 2,
   "metadata": {},
   "outputs": [
    {
     "name": "stdout",
     "output_type": "stream",
     "text": [
      "'data' folder exists!\n"
     ]
    }
   ],
   "source": [
    "# Print error if this directory does not have a folder named 'data'\n",
    "if not Path('data').exists():\n",
    "    print(\"Error! This program requires a data folder!\")\n",
    "# Otherwise, confirm that the data folder exists\n",
    "else:\n",
    "    print(\"'data' folder exists!\")"
   ]
  },
  {
   "cell_type": "code",
   "execution_count": 3,
   "metadata": {},
   "outputs": [],
   "source": [
    "# Function\n",
    "logging.basicConfig(filename = 'extract_audio_from_video.log',\n",
    "                    encoding = 'utf-8', level = logging.DEBUG,\n",
    "                    filemode = 'w')\n",
    "\n",
    "def extract_audio_from_video(video_path, to_folder = None,\n",
    "                             video_extensions = ['.mp4', '.mov'],\n",
    "                             log_flag = False):\n",
    "    \"\"\"\n",
    "    Function that goes into the directory and extracts audio from all mp4 files and outputs it\n",
    "    into a folder called 'extracted_audio'\n",
    "    \n",
    "    Arguments:\n",
    "    video_path | pathlib.PosixPath\n",
    "    Path to the directory that contains all of the video files.\n",
    "    \n",
    "    Optional Arguments:\n",
    "    to_folder | pathlib.PosixPath\n",
    "    Path to the directory where you want to store the extracted audio. By default,\n",
    "    it will be extracted into a folder in video_path's parent directory as 'extracted_audio'\n",
    "    \n",
    "    video_extensions | list\n",
    "    A list of strings that contains the extensions you want ffmpeg to extract audio from. The\n",
    "    default includes .mp4 files and .mov files.\n",
    "    \n",
    "    log_flag | bool\n",
    "    A boolean value that sets the logging level. If true, it will \n",
    "    \n",
    "    Returns:\n",
    "    It returns a string that tells you how many audio files were extracted.\n",
    "    \"\"\"\n",
    "    # Set up the logging for this function\n",
    "    # filemode = 'w' makes it overwrite the previous log\n",
    "    \n",
    "    # Using dictionary as switch case for using whether or not to log the logging info\n",
    "    log_switch_case = {\n",
    "        # The only logging functions that are used are logging.info()\n",
    "        True: logging.DEBUG, # This writes logging debug output into the log file\n",
    "        False: logging.WARNING # This stops writing logging debug output into the log file\n",
    "    }\n",
    "    # See https://docs.python.org/3/howto/logging.html for descriptions of the various levels\n",
    "    \n",
    "    # Making a default directory for to_folder\n",
    "    if to_folder == None:\n",
    "        print(\"Created a default to_folder as none was given.\")\n",
    "        video_path.parent.joinpath('extracted_audio')\n",
    "    \n",
    "    # Create a counter for the number of audio files processed\n",
    "    audio_file_counter = 0\n",
    "    \n",
    "    # Go through all files in `video_path`\n",
    "    for child in video_path.iterdir():\n",
    "        # Debugging: show the file name\n",
    "        logging.debug('Detected file: {}'.format(child.name))\n",
    "        # Store the extension of the file name\n",
    "        file_extension = Path(child.name).suffix\n",
    "        # If the file's extension is in `video_extensions`\n",
    "        if file_extension in video_extensions:\n",
    "            # Do an ffmpeg probe on the currently selected file\n",
    "            current_probe = ffmpeg.probe(child)\n",
    "            # If the number of streams is more than 1\n",
    "            # (as a proxy for if the file could have audio)\n",
    "            if len(current_probe['streams']) > 1:\n",
    "                # Check if `codec_type` is audio\n",
    "                for stream in current_probe['streams']:\n",
    "                    # Debugging: print the codec type\n",
    "                    print(stream['codec_type'])\n",
    "                    # If the codec type is audio\n",
    "                    if stream['codec_type'] == 'audio':\n",
    "                        # Debugging: print the video file's path\n",
    "                        print(child)\n",
    "                        # Store the video file path\n",
    "                        new_child = str(child)\n",
    "                        # Replace the extension with .mp3\n",
    "                        new_child = re.sub(pattern = '{}$'.format(file_extension),\n",
    "                                          repl = '.mp3', string = new_child)\n",
    "                        \n",
    "                        # Check that the audio path exists\n",
    "                        if not a_path_1.exists():\n",
    "                            print(\"to_folder directory does not exist therefore one will be made.\")\n",
    "                            a_path_1.mkdir(parents = True, exist_ok = False)\n",
    "                        \n",
    "                        # Create a variable to store the audio file's path\n",
    "                        audio_file_path = a_path_1.joinpath(Path(new_child).name)\n",
    "                        # Debugging: print the audio file's path\n",
    "                        print(audio_file_path)\n",
    "                        \n",
    "                        # Information about the ffmpeg command:\n",
    "                        ## ffmpeg -i input.mp4 -vn -q:a 0 -map a audio.mp3\n",
    "                        ## '-i' is the input, '-vn' excludes video,\n",
    "                        ## '-q:a' is the mp3 encoding,\n",
    "                        ## '0' is the best quality mp3 encoding,\n",
    "                        ## '-map a' only grabs audio\n",
    "                        \n",
    "                        # Using ffmpeg to transform the video file into a .mp3 file\n",
    "                        try:\n",
    "                            out, error_message = ffmpeg.input(str(child)) \\\n",
    "                            .output(filename = str(audio_file_path),\n",
    "                                   **{'qscale:a': 0,\n",
    "                                      'map': 'a'}) \\\n",
    "                            .overwrite_output() \\\n",
    "                            .run()\n",
    "                        # Print the error message if the try doesn't work\n",
    "                        except ffmpeg.Error as error_message:\n",
    "                            print('ffmpeg stderr:', error_message.stderr())\n",
    "                            raise error_message\n",
    "                        \n",
    "                        # Incremenet the counter for the number of video files processed\n",
    "                        audio_file_counter += 1\n",
    "    # Return a print message that states how many audio files were extracted\n",
    "    if (audio_file_counter == 1):\n",
    "        file_word = 'file'\n",
    "    else:\n",
    "        file_word = 'files'\n",
    "    # Print how many audio files were extracted\n",
    "    return (str(audio_file_counter) + ' audio ' + file_word + ' extracted!')"
   ]
  },
  {
   "cell_type": "code",
   "execution_count": 5,
   "metadata": {},
   "outputs": [
    {
     "name": "stdout",
     "output_type": "stream",
     "text": [
      "Video path:  /Users/Jackie/Documents/Coding/jupyter nbs (python)/audio_extraction/data\n",
      "20\n",
      "log flag:  True\n",
      "video\n",
      "audio\n",
      "/Users/Jackie/Documents/Coding/jupyter nbs (python)/audio_extraction/data/u2jzoo.mp4\n",
      "/Users/Jackie/Documents/Coding/jupyter nbs (python)/audio_extraction/extracted_audio/u2jzoo.mp3\n",
      "video\n",
      "audio\n",
      "/Users/Jackie/Documents/Coding/jupyter nbs (python)/audio_extraction/data/mrrrzic2.mov\n",
      "/Users/Jackie/Documents/Coding/jupyter nbs (python)/audio_extraction/extracted_audio/mrrrzic2.mp3\n"
     ]
    },
    {
     "data": {
      "text/plain": [
       "'2 audio files extracted!'"
      ]
     },
     "execution_count": 5,
     "metadata": {},
     "output_type": "execute_result"
    }
   ],
   "source": [
    "# Testing function\n",
    "# Make the path to the data folder that contains the video files\n",
    "v_path_1 = Path.cwd().joinpath('data')\n",
    "# Make a directory that you want the extracted audio to go into\n",
    "a_path_1 = Path.cwd().joinpath('extracted_audio')\n",
    "# Show where the video files are coming from\n",
    "print(\"Video path: \", v_path_1)\n",
    "# Test the function\n",
    "extract_audio_from_video(video_path = v_path_1, to_folder = a_path_1, log_flag = True)"
   ]
  },
  {
   "cell_type": "code",
   "execution_count": null,
   "metadata": {},
   "outputs": [],
   "source": [
    "# Note about logging:\n",
    "# When the code is run from a python notebook, it will just keep logging onto the same file\n",
    "# without clearing the previous logging file, regardless of the settings. However when I tried\n",
    "# running the function on a python script file, it cleared the logging file properly\n",
    "# before it started writing the log."
   ]
  }
 ],
 "metadata": {
  "kernelspec": {
   "display_name": "audio_extraction",
   "language": "python",
   "name": "audio_extraction"
  },
  "language_info": {
   "codemirror_mode": {
    "name": "ipython",
    "version": 3
   },
   "file_extension": ".py",
   "mimetype": "text/x-python",
   "name": "python",
   "nbconvert_exporter": "python",
   "pygments_lexer": "ipython3",
   "version": "3.9.0"
  }
 },
 "nbformat": 4,
 "nbformat_minor": 4
}
